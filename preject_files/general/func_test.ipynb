{
 "cells": [
  {
   "cell_type": "code",
   "execution_count": 18,
   "id": "b5a47896-325f-49df-8017-72e48c488a36",
   "metadata": {},
   "outputs": [
    {
     "name": "stdout",
     "output_type": "stream",
     "text": [
      "112\n"
     ]
    }
   ],
   "source": [
    "import import_ipynb\n",
    "\n",
    "# def get_formatted_name(first, last):\n",
    "#     \"\"\"Generate formated name\"\"\"\n",
    "#     full_name = f\"{first} {last}\"\n",
    "#     return full_name.title()\n",
    "\n",
    "\n",
    "def get_formatted_name(first, last, middle=\"\"):\n",
    "    \"\"\"Generate formated name\"\"\"\n",
    "    if middle:\n",
    "        full_name = f\"{first} {middle} {last}\"\n",
    "    else:\n",
    "        full_name = f\"{first} {last}\"\n",
    "    return full_name.title()\n",
    "\n",
    "def quadrratic_equ(x, c):\n",
    "    \"\"\"Equation of a straight line\"\"\"\n",
    "    y = x**2 + c\n",
    "    return y\n",
    "\n",
    "\n",
    "if __name__ == \"__main__\":\n",
    "    get_formatted_name(\"James\", \"Prince\", \"david\")\n",
    "\n",
    "    print(quadrratic_equ(10, 12))"
   ]
  },
  {
   "cell_type": "code",
   "execution_count": 8,
   "id": "623c2713-5e35-4f71-9569-ae6a6c83dce5",
   "metadata": {},
   "outputs": [
    {
     "name": "stdout",
     "output_type": "stream",
     "text": [
      "15\n"
     ]
    }
   ],
   "source": [
    "\n",
    "def add(x, y):\n",
    "    return x + y\n",
    "\n",
    "def subtract(x, y):\n",
    "    return x - y\n",
    "\n",
    "def divide(x, y):\n",
    "    # if y == 0:\n",
    "    #     raise ValueErrorror(\"Can not divide by zero\")\n",
    "    return x / y\n",
    "\n",
    "def multiply(x, y):\n",
    "    return x * y\n",
    "\n",
    "if __name__ == \"__main__\":\n",
    "    print(add(10,5))"
   ]
  },
  {
   "cell_type": "code",
   "execution_count": null,
   "id": "06529741-b51c-4a2f-bd8a-03ec78a24b91",
   "metadata": {},
   "outputs": [],
   "source": []
  },
  {
   "cell_type": "code",
   "execution_count": null,
   "id": "1b233262-2aaf-4a49-9819-6f4eb4d53b3d",
   "metadata": {},
   "outputs": [],
   "source": []
  }
 ],
 "metadata": {
  "kernelspec": {
   "display_name": "Python 3",
   "language": "python",
   "name": "python3"
  },
  "language_info": {
   "codemirror_mode": {
    "name": "ipython",
    "version": 3
   },
   "file_extension": ".py",
   "mimetype": "text/x-python",
   "name": "python",
   "nbconvert_exporter": "python",
   "pygments_lexer": "ipython3",
   "version": "3.10.0"
  }
 },
 "nbformat": 4,
 "nbformat_minor": 5
}
