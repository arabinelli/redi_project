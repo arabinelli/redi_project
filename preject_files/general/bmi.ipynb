{
 "cells": [
  {
   "cell_type": "code",
   "execution_count": 1,
   "id": "7fa0371b-19fc-4534-822c-be70423176b8",
   "metadata": {},
   "outputs": [],
   "source": [
    "class BMI:\n",
    "    def __init__(self, name, age, weight, height):\n",
    "        self.__name = name\n",
    "        self.__age = age\n",
    "        self.__weight = weight\n",
    "        self.__height = height\n",
    "        \n",
    "    def get_bmi(self):\n",
    "        KILOGRAMS_PER_POUND = 0.45359237\n",
    "        METERS_PER_INCH = 0.0254\n",
    "        bmi = self.__weight * KILOGRAMS_PER_POUND / ((self.__height * METERS_PER_INCH) * (self.__height * METERS_PER_INCH))\n",
    "        return round(bmi * 100) / 100\n",
    "        \n",
    "    def get_status(self):\n",
    "        bmi = self.get_bmi()\n",
    "        if bmi < 18.5:\n",
    "            return \"Underweight\"\n",
    "        elif bmi < 25:\n",
    "            return \"Normal\"\n",
    "        elif bmi < 30:\n",
    "            return \"Overweight\"\n",
    "        else:\n",
    "            return \"Obese\"\n",
    "    \n",
    "    def get_name(self):\n",
    "        return self.__name\n",
    "\n",
    "    def get_age(self):\n",
    "        return self.__age\n",
    "\n",
    "    def get_weight(self):\n",
    "        return self.__weight\n",
    "\n",
    "    def get_height(self):\n",
    "        return self.__height \n",
    "\n",
    "def ac():\n",
    "    print(\"Hello\")"
   ]
  },
  {
   "cell_type": "code",
   "execution_count": 15,
   "id": "ecb7ab90-7a15-415e-9b4d-a875e911d687",
   "metadata": {},
   "outputs": [
    {
     "name": "stdout",
     "output_type": "stream",
     "text": [
      "Inner function before decuration\n",
      "function after decoration\n",
      "Inner function before decuration\n",
      "function after decoration\n"
     ]
    }
   ],
   "source": [
    "def new_function():\n",
    "    print(\"function after decoration\")\n",
    "    \n",
    "def decorating_function(decorated_function):\n",
    "    def inner_function():\n",
    "        print(\"Inner function before decuration\")\n",
    "        decorated_function()\n",
    "    return inner_function\n",
    "\n",
    "\n",
    "new_function = decorating_function(new_function)\n",
    "new_function()\n",
    "new_function()"
   ]
  },
  {
   "cell_type": "code",
   "execution_count": 18,
   "id": "ed133df9-0fdb-4f2b-ba40-497b6030cb3e",
   "metadata": {},
   "outputs": [
    {
     "name": "stdout",
     "output_type": "stream",
     "text": [
      "Inner function before decuration\n",
      "function after decoration\n"
     ]
    }
   ],
   "source": [
    "@decorating_function\n",
    "def new_function():\n",
    "    print(\"function after decoration\")\n",
    "    \n",
    "new_function()"
   ]
  },
  {
   "cell_type": "code",
   "execution_count": 55,
   "id": "860b2790-27bd-48bb-ad39-70236c9a70a6",
   "metadata": {},
   "outputs": [],
   "source": [
    "def multiply(a, b):\n",
    "    print(a*b)\n",
    "\n",
    "def add(a, b):\n",
    "    return a+b\n",
    "\n",
    "def sub(a, b):\n",
    "    return a-b\n",
    "\n",
    "def divide(a, b):\n",
    "    try:\n",
    "        return a*b\n",
    "    except:\n",
    "        return \"Division by zero not possible\"\n",
    "\n",
    "\n",
    "def take_input(func):\n",
    "    print(\"new1\")\n",
    "    def user_choice():\n",
    "        print(\"Start1\")\n",
    "        choice_1, choice_2 = input(\"Choose two numbers a and b: \").split()\n",
    "        func(int(choice_1), int(choice_2))\n",
    "        print(\"Start2\")\n",
    "    print(\"New2\")\n",
    "    return user_choice"
   ]
  },
  {
   "cell_type": "code",
   "execution_count": 56,
   "id": "e3776b47-a282-4714-98ff-cbe7a7e40830",
   "metadata": {},
   "outputs": [
    {
     "name": "stdout",
     "output_type": "stream",
     "text": [
      "new1\n",
      "New2\n",
      "Start1\n"
     ]
    },
    {
     "name": "stdin",
     "output_type": "stream",
     "text": [
      "Choose two numbers a and b:  2 3\n"
     ]
    },
    {
     "name": "stdout",
     "output_type": "stream",
     "text": [
      "6\n",
      "Start2\n"
     ]
    }
   ],
   "source": [
    "take_input(multiply)()\n"
   ]
  },
  {
   "cell_type": "code",
   "execution_count": 113,
   "id": "f626a4a3-3f0a-4129-8cea-9026fb41ee07",
   "metadata": {},
   "outputs": [
    {
     "name": "stdout",
     "output_type": "stream",
     "text": [
      "16\n",
      "8\n",
      "0.6666666666666666\n"
     ]
    }
   ],
   "source": [
    "\n",
    "def take_input2(func):\n",
    "    def user_choice(a=4, b=4):\n",
    "        #print(\"I am going to divide\", a, \"and\", b)\n",
    "        #a, b = input(\"Choose two numbers a and b: \").split()\n",
    "        return func(int(a), int(b))\n",
    "    return user_choice\n",
    "\n",
    "\n",
    "# multiply = take_input2(multiply)\n",
    "# multiply()\n",
    "@take_input2\n",
    "def multiply(a, b):\n",
    "    return a*b\n",
    "\n",
    "@take_input2\n",
    "def add(a, b):\n",
    "    return a+b\n",
    "\n",
    "@take_input2\n",
    "def sub(a, b):\n",
    "    return a-b\n",
    "\n",
    "@take_input2\n",
    "def divide(a, b):\n",
    "    try:\n",
    "        return a/b\n",
    "    except:\n",
    "        return \"Division by zero not possible\"\n",
    "    \n",
    "print(multiply())\n",
    "print(add())\n",
    "print(divide(2,3))"
   ]
  },
  {
   "cell_type": "code",
   "execution_count": null,
   "id": "f49c522c-ab6f-4c68-a7fd-c83423bc2b60",
   "metadata": {},
   "outputs": [],
   "source": []
  },
  {
   "cell_type": "code",
   "execution_count": 59,
   "id": "f86dd754-132e-4d81-8e45-d03d0785408c",
   "metadata": {},
   "outputs": [
    {
     "name": "stdout",
     "output_type": "stream",
     "text": [
      "5\n"
     ]
    }
   ],
   "source": [
    "def add(a, b):\n",
    "    return a+b\n",
    "def cc(x):\n",
    "    return x\n",
    "print(cc(add(2,3)))"
   ]
  },
  {
   "cell_type": "code",
   "execution_count": null,
   "id": "fbc8ba68-647d-4f71-9436-8a6a4db70c6c",
   "metadata": {},
   "outputs": [],
   "source": []
  }
 ],
 "metadata": {
  "kernelspec": {
   "display_name": "Python 3",
   "language": "python",
   "name": "python3"
  },
  "language_info": {
   "codemirror_mode": {
    "name": "ipython",
    "version": 3
   },
   "file_extension": ".py",
   "mimetype": "text/x-python",
   "name": "python",
   "nbconvert_exporter": "python",
   "pygments_lexer": "ipython3",
   "version": "3.7.11"
  }
 },
 "nbformat": 4,
 "nbformat_minor": 5
}
