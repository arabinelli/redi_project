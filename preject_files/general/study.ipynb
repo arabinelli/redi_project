{
 "cells": [
  {
   "cell_type": "markdown",
   "id": "3109a865-410d-4624-a37a-d64d25f5df2e",
   "metadata": {},
   "source": [
    "## UML (unified modelling language) diagram\n",
    "This is a graphical notation to describe classes\n",
    "\n",
    "dataFieldName: dataFieldType\n",
    "ClassName(parameterName: parameterType)\n",
    "methodName(parameterName: parameterType): returnType"
   ]
  },
  {
   "cell_type": "code",
   "execution_count": 6,
   "id": "e8dc7eb6-9bf2-4db3-a1cd-c8d493ac993a",
   "metadata": {},
   "outputs": [
    {
     "data": {
      "text/plain": [
       "4"
      ]
     },
     "execution_count": 6,
     "metadata": {},
     "output_type": "execute_result"
    }
   ],
   "source": [
    "def ab()-> None:\n",
    "    return \n",
    "ab()"
   ]
  },
  {
   "cell_type": "code",
   "execution_count": 13,
   "id": "fc517f0d-f13b-42fd-be1d-50c3f0fdd2fc",
   "metadata": {},
   "outputs": [
    {
     "data": {
      "text/plain": [
       "[2.0, -8.4, 10.8]"
      ]
     },
     "execution_count": 13,
     "metadata": {},
     "output_type": "execute_result"
    }
   ],
   "source": [
    "Vector = list()\n",
    "\n",
    "def scale(scalar: float, vector: Vector) -> Vector:\n",
    "    return [scalar * num for num in vector]\n",
    "\n",
    "# typechecks; a list of floats qualifies as a Vector.\n",
    "new_vector = scale(2.0, [1.0, -4.2, 5.4])\n",
    "new_vector"
   ]
  },
  {
   "cell_type": "markdown",
   "id": "116bdc24-daac-46bd-9506-fe7397e59452",
   "metadata": {},
   "source": [
    "<p style=\"text-align: center;\"> <b>Loan UML</b></p>\n",
    "-------------------------------------------------------------------------------------<br>\n",
    "-annualInterestRate: float <br>\n",
    "-numberOfYears: int <br>\n",
    "-loanAmount: float <br>\n",
    "-borrower: str <br>\n",
    "-------------------------------------------------------------------------------------<br>\n",
    "Loan(annualInterestRate: float, numberOfYears: int, loanAmount: float, borrower: str)<br> <br>\n",
    "\n",
    "\n",
    "getAnnualInterestRate(): float<br>\n",
    "getNumberOfYears(): int<br>\n",
    "getLoanAmount(): float<br>\n",
    "getBorrower(): str<br>\n",
    "setAnnualInterestRate(annualInterestRate: float): None<br>\n",
    "setNumberOfYears(numberOfYears: int): None<br>\n",
    "setLoanAmount(loanAmount: float): None<br>\n",
    "setBorrower(borrower: str): None<br>\n",
    "setMonthlyPayment(): float<br>\n",
    "getTotalPayment(): float"
   ]
  },
  {
   "cell_type": "markdown",
   "id": "ac6c479b-ec40-4e70-bff7-53699420c899",
   "metadata": {},
   "source": [
    "**Loan Implementation**"
   ]
  },
  {
   "cell_type": "code",
   "execution_count": 41,
   "id": "aa4f2cee-4a2c-431f-aa7b-e42a1e55a869",
   "metadata": {},
   "outputs": [
    {
     "name": "stdout",
     "output_type": "stream",
     "text": [
      "Enter yearly interest rate, for example, 7.25:  2.5\n",
      "Enter number of years as an integer:  5\n",
      "Enter loan amount, for example, 120000.95:  1000\n",
      "Enter a borrower's name:  Johne Jones\n"
     ]
    },
    {
     "name": "stdout",
     "output_type": "stream",
     "text": [
      "\n",
      "The loan is for, \u001b[1mJohne Jones\u001b[0m\n",
      "The monthly payment is \u001b[1m17.75\u001b[0m\n",
      "The total payment is \u001b[1m1064.84\n"
     ]
    }
   ],
   "source": [
    "class Loan:\n",
    "    def __init__(self, annual_interest_rate = 2.5, number_of_years = 1,\n",
    "                 loan_amount = 1000, borrower = \" \"):\n",
    "        self.__annual_interest_rate = annual_interest_rate\n",
    "        self.__number_of_years = number_of_years\n",
    "        self.__loan_amount = loan_amount\n",
    "        self.__borrower = borrower\n",
    "        \n",
    "    def get_annual_interest_rate(self):\n",
    "        return self.__annual_interest_rate\n",
    "    \n",
    "    def get_number_of_years(self):\n",
    "        return self.__number_of_years\n",
    "    \n",
    "    def get_laon_amount(self):\n",
    "        return self.__loan_amount\n",
    "    \n",
    "    def get_borrower(self):\n",
    "        return self.__borrower\n",
    "    \n",
    "    def set_annual_interest_rate(self, annual_interest_rate):\n",
    "        self.__annual_interest_rate = annual_interest_rate\n",
    "        \n",
    "    def set_number_of_years(self, number_of_years):\n",
    "        self.__number_of_years = number_of_years\n",
    "        \n",
    "    def set_loan_amount(self, loan_amount):\n",
    "        self.__loan_amount = loan_amount\n",
    "        \n",
    "    def set_borrower(self, borrower):\n",
    "        self.__borrower = borrower\n",
    "    \n",
    "    def get_monthly_payment(self):\n",
    "        monthly_interest_rate = self.__annual_interest_rate / 1200\n",
    "        monthly_payment = self.__loan_amount * monthly_interest_rate / (1 - \\\n",
    "                        (1 / (1 + monthly_interest_rate)**(self.__number_of_years*12)))\n",
    "        return monthly_payment\n",
    "    \n",
    "    def get_total_payment(self):\n",
    "        total_payment = self.get_monthly_payment() * self.__number_of_years * 12\n",
    "        return total_payment\n",
    "    \n",
    "def main():\n",
    "    #Enter yearly interest rate\n",
    "    annual_interest_rate = eval(input(\"Enter yearly interest rate, for example, 7.25: \"))\n",
    "    \n",
    "    #Enter number of years\n",
    "    number_of_years = eval(input(\"Enter number of years as an integer: \"))\n",
    "    \n",
    "    #Enter loan amount\n",
    "    loan_amount = eval(input(\"Enter loan amount, for example, 120000.95: \"))\n",
    "    \n",
    "    # Enter a borrower\n",
    "    borrower = input(\"Enter a borrower's name: \")\n",
    "    print()\n",
    "    # Create a Loan object\n",
    "    loan = Loan(annual_interest_rate, number_of_years,\n",
    "                loan_amount, borrower)\n",
    "    \n",
    "    # Display loan date, monthly payment, and total payment\n",
    "    print(f\"The loan is for, \\033[1m{loan.get_borrower()}\\033[0m\")\n",
    "    print(f\"The monthly payment is \\033[1m{loan.get_monthly_payment():.2f}\\033[0m\")\n",
    "    print(f\"The total payment is \\033[1m{loan.get_total_payment():.2f}\")\n",
    "    \n",
    "main() # Call the main function"
   ]
  },
  {
   "cell_type": "markdown",
   "id": "9ec55799-b167-4222-8e92-e574c450a13c",
   "metadata": {},
   "source": [
    "## ComputeBMI in procedural programming"
   ]
  },
  {
   "cell_type": "code",
   "execution_count": null,
   "id": "b120eb2e-77fd-4962-ad2f-63d57dc702d4",
   "metadata": {},
   "outputs": [],
   "source": [
    "# Prompt the user to enter weight in pounds\n",
    "weight = eval(input(\"Enter weight in pounds: \"))\n",
    "\n",
    "# Prompt the user to enter height in inches\n",
    "height = eval(input(\"Enter height in inches: \"))\n",
    "\n",
    "KILOGRAMS_PER_POUND = 0.45359237 # Constant\n",
    "METERS_PER_INCH = 0.0254 # Constant\n",
    "\n",
    "# Compute BMI\n",
    "weightInKilograms = weight * KILOGRAMS_PER_POUND\n",
    "heightInMeters = height * METERS_PER_INCH\n",
    "bmi = weightInKilograms / (heightInMeters * heightInMeters)\n",
    "\n",
    "# Display result\n",
    "print(\"BMI is\", format(bmi, \".2f\"))\n",
    "if bmi < 18.5:\n",
    "    print(\"Underweight\")\n",
    "elif bmi < 25:\n",
    "    print(\"Normal\")\n",
    "elif bmi < 30:\n",
    "    print(\"Overweight\")\n",
    "else:\n",
    "    print(\"Obese\")"
   ]
  },
  {
   "cell_type": "markdown",
   "id": "4b3f7673-f728-488b-8646-44b6438e4e30",
   "metadata": {},
   "source": [
    "## ComputeBMI in OOP"
   ]
  },
  {
   "cell_type": "markdown",
   "id": "0f59ee5a-1c8c-44b8-8289-606bb8960067",
   "metadata": {},
   "source": [
    "<p style=\"text-align: center;\"> <b>BMI UML</b></p> \n",
    "---------------------------------------------------------------<br>\n",
    "-name: str<br>\n",
    "-age: int<br>\n",
    "-weight: float<br>\n",
    "-height: float<br>\n",
    "---------------------------------------------------------------<br>\n",
    "BMI(name: str, age: int, weight: float, height: float)<br>\n",
    "getBMI(): float<br>\n",
    "getStatus(): str<br>\n",
    "getName(): str\n"
   ]
  },
  {
   "cell_type": "markdown",
   "id": "31c75a4c-28b0-4a09-89d0-971636692ad9",
   "metadata": {},
   "source": [
    "### first test the program before implementing it"
   ]
  },
  {
   "cell_type": "code",
   "execution_count": 4,
   "id": "aec8fbae-e30b-41ba-978b-396d59d707aa",
   "metadata": {},
   "outputs": [
    {
     "name": "stdout",
     "output_type": "stream",
     "text": [
      "The BMI for John Doe is 20.81 Normal\n",
      "The BMI for Peter Kings is 30.85, Obese\n"
     ]
    }
   ],
   "source": [
    "import import_ipynb\n",
    "from testing import BMI\n",
    "    \n",
    "def main():\n",
    "    bmi1 = BMI(\"John Doe\", 18, 145, 70)\n",
    "    print(f\"The BMI for {bmi1.get_name()} is {bmi1.get_bmi()} {bmi1.get_status()}\")\n",
    "    bmi2 = BMI(\"Peter Kings\", 50, 215, 70)\n",
    "    print(f\"The BMI for {bmi2.get_name()} is {bmi2.get_bmi()}, {bmi2.get_status()}\")\n",
    "    \n",
    "main()"
   ]
  },
  {
   "cell_type": "markdown",
   "id": "09131374-1d69-48ef-bd19-0be2b30b45e9",
   "metadata": {},
   "source": [
    "### String class"
   ]
  },
  {
   "cell_type": "code",
   "execution_count": null,
   "id": "6ae7224d-c2a9-4b82-9870-27ef7b180503",
   "metadata": {},
   "outputs": [],
   "source": [
    "#Create string\n",
    "s1 = str()\n",
    "s2 = str(\"Welcome\") #same as s2 = \"Welcome\"\n",
    "s3 = \" \"\n",
    "\n",
    "#both refers to the same object hence they have the same id\n",
    "s4 = \"please\"\n",
    "s5 = \"please\"\n",
    "# strings with the same content are actually the same object\n",
    "#this behaviour is true for all immutable objects in Python\n",
    "# int is an immutable class\n",
    "\n",
    "x = 10\n",
    "y = 10 # both share smae id"
   ]
  },
  {
   "cell_type": "code",
   "execution_count": 3,
   "id": "43ea5bc6-a0b5-40d9-af1e-0d499d4df351",
   "metadata": {},
   "outputs": [
    {
     "data": {
      "text/plain": [
       "76"
      ]
     },
     "execution_count": 3,
     "metadata": {},
     "output_type": "execute_result"
    }
   ],
   "source": [
    "a = \"this behaviour is true for all immutable objects in Python immutable objects\"\n",
    "len(a)"
   ]
  },
  {
   "cell_type": "markdown",
   "id": "3b2d99fc-f270-455f-afcc-2e2f7cb16d1e",
   "metadata": {},
   "source": [
    "## Fluent Python test book"
   ]
  },
  {
   "cell_type": "code",
   "execution_count": 24,
   "id": "e11becf3-771f-4330-8679-4a1ad5b62abd",
   "metadata": {},
   "outputs": [
    {
     "data": {
      "text/plain": [
       "45"
      ]
     },
     "execution_count": 24,
     "metadata": {},
     "output_type": "execute_result"
    }
   ],
   "source": [
    "from operator import add, sub\n",
    "import operator\n",
    "a=tuple(range(10))\n",
    "\n",
    "add(4,5)\n",
    "sub(4,5)\n",
    "b,c,*d=a\n",
    "sum(a)"
   ]
  },
  {
   "cell_type": "code",
   "execution_count": 13,
   "id": "f178c9fd-ca0c-44c3-b2f5-ffd9e8894479",
   "metadata": {},
   "outputs": [
    {
     "data": {
      "text/plain": [
       "'Just doing something'"
      ]
     },
     "execution_count": 13,
     "metadata": {},
     "output_type": "execute_result"
    }
   ],
   "source": [
    "def ab():\n",
    "    \"\"\"Just doing something\"\"\"\n",
    "    return\n",
    "ab.__doc__"
   ]
  },
  {
   "cell_type": "markdown",
   "id": "8e4202c1-3260-437b-ac96-b9b5a36ab724",
   "metadata": {},
   "source": [
    "Anonymous function\n",
    "```python\n",
    "lambda arguments : expression\n",
    "```"
   ]
  },
  {
   "cell_type": "code",
   "execution_count": 41,
   "id": "ff4abd1c-be49-455c-9362-5ffabe41c525",
   "metadata": {},
   "outputs": [
    {
     "data": {
      "text/plain": [
       "9"
      ]
     },
     "execution_count": 41,
     "metadata": {},
     "output_type": "execute_result"
    }
   ],
   "source": [
    "def ab(a,b,c):\n",
    "    \"\"\"Just doing something\"\"\"\n",
    "    return a+b+c\n",
    "ab(2,3,4)\n",
    "\n",
    "x = lambda a, b, c: a + b +c\n",
    "x(2,3,4)"
   ]
  },
  {
   "cell_type": "code",
   "execution_count": 42,
   "id": "677c640c-ef9e-4cf5-9c40-628685f4ff0b",
   "metadata": {},
   "outputs": [
    {
     "data": {
      "text/plain": [
       "['banana', 'apple', 'fig', 'raspberry', 'strawberry', 'cherry']"
      ]
     },
     "execution_count": 42,
     "metadata": {},
     "output_type": "execute_result"
    }
   ],
   "source": [
    "fruits = ['strawberry', 'fig', 'apple', 'cherry', 'raspberry', 'banana']\n",
    "sorted(fruits, key=lambda word: word[::-1])"
   ]
  },
  {
   "cell_type": "markdown",
   "id": "6d4fb609-23ae-47ca-8116-94df2148ecd0",
   "metadata": {},
   "source": [
    "<span style=\"color:yellow\">The Seven Flavors of Callable Objects</span>\n",
    "<br>In python () is the call operator. Use callable() to determine whether an object<br>\n",
    "is callable.\n",
    "- <span style=\"color:yellow\">User-defined functions </span>\n",
    "<br> Created with def or lambda\n",
    "- <span style=\"color:yellow\">Built-in functions </span>\n",
    "- <span style=\"color:yellow\">Built-in methods </span>\n",
    "- <span style=\"color:yellow\">Methods </span>\n",
    "<br> Functions defined in a class\n",
    "- <span style=\"color:yellow\">Classes </span> <br>\n",
    "When invoked, a class runs its __new__ method to create an instance, then `__init__` to initialize it, and finally the instance is returned to the caller.\n",
    "- <span style=\"color:yellow\">Class instances </span> <br>\n",
    "If a class defines a __call__ method, then its instances may be invoked as functions."
   ]
  },
  {
   "cell_type": "markdown",
   "id": "0b515501-3c35-4f38-9e78-e89ae5dbc0ec",
   "metadata": {},
   "source": [
    "<span style=\"color:red\">Class instances that works as callable</span>\n",
    "<br> Not only are Python functions real objects, but arbitrary Python objects may also be\n",
    "made to behave like functions. Implementing a `__call__` instance method is all it takes."
   ]
  },
  {
   "cell_type": "code",
   "execution_count": 13,
   "id": "b5eb155b-8a83-4cbc-a617-3df7efc1bd53",
   "metadata": {},
   "outputs": [
    {
     "name": "stdout",
     "output_type": "stream",
     "text": [
      "[6, 8, 9, 7, 5, 3, 0, 4, 1, 2]\n",
      "3\n"
     ]
    }
   ],
   "source": [
    "import random\n",
    "\n",
    "class BingoCage:\n",
    "    \"\"\"Picks itmes from a shuffled list\"\"\"\n",
    "    random.seed(1)\n",
    "    def __init__(self, items):\n",
    "        self._items = list(items)\n",
    "        random.shuffle(self._items)\n",
    "    \n",
    "    def pick(self):\n",
    "        try:\n",
    "            return self._items.pop()\n",
    "        except IndexError:\n",
    "            raise LookupError('pick from empty BingoCage')\n",
    "            \n",
    "    #def\n",
    "    \n",
    "    def __call__(self):\n",
    "        return self._items #shortcut to bingo.pick(): bingo().\n",
    "    \n",
    "#     def __call__(self):\n",
    "#         return self.pick() #shortcut to bingo.pick(): bingo().\n",
    "    \n",
    "    \n",
    "bingo = BingoCage(range(10))\n",
    "print(bingo())\n",
    "bingo = BingoCage(range(10))\n",
    "print(bingo.pick())\n"
   ]
  },
  {
   "cell_type": "markdown",
   "id": "31777416-9c4d-4125-88a8-e24abff31953",
   "metadata": {},
   "source": [
    "### Strings and Special Methods"
   ]
  },
  {
   "cell_type": "code",
   "execution_count": 2,
   "id": "522fdd36-bf48-49fa-9d37-6c2d0b476845",
   "metadata": {},
   "outputs": [],
   "source": [
    "#Create strings\n",
    "s1 = str() # same as s1 = \"\"\n",
    "s2 = str(\"Welcome\") # same as s2 = \"Welcome\"\n"
   ]
  },
  {
   "cell_type": "markdown",
   "id": "eb22ed57",
   "metadata": {},
   "source": [
    "### GUI Programming Using Tkinter "
   ]
  },
  {
   "cell_type": "code",
   "execution_count": 19,
   "id": "b1acd616",
   "metadata": {},
   "outputs": [],
   "source": [
    "from tkinter import *\n",
    "\n",
    "window = Tk() #Create a window\n",
    "label = Label(window, text = \"Welcome to Python\") #Create a label\n",
    "button = Button(window, text = \"Click Me\") # Create a button\n",
    "label.pack()  # place the label in the window\n",
    "button.pack() # Place the button in the window\n",
    "\n",
    "window.mainloop() #Create an event loop"
   ]
  },
  {
   "cell_type": "code",
   "execution_count": 20,
   "id": "0abe24fe",
   "metadata": {},
   "outputs": [],
   "source": [
    "def processOk():\n",
    "    print(\"Ok button is clicked\")\n",
    "\n",
    "def processCancel():\n",
    "    print(\"Cancel button\")\n",
    "\n",
    "window = Tk() #create a window\n",
    "btOk = Button(window, text=\"Ok\", fg=\"red\", command=processOk)\n",
    "btCancel = Button(window, text=\"Cancel\", bg=\"yellow\", command=processCancel)\n",
    "\n",
    "btOk.pack()\n",
    "btCancel.pack()\n",
    "\n",
    "window.mainloop()"
   ]
  },
  {
   "cell_type": "code",
   "execution_count": 9,
   "id": "437a4a05",
   "metadata": {},
   "outputs": [
    {
     "data": {
      "text/plain": [
       "<__main__.ProcessButtonEvent at 0x1ae1c561f90>"
      ]
     },
     "execution_count": 9,
     "metadata": {},
     "output_type": "execute_result"
    }
   ],
   "source": [
    "#Creating class using the above functions\n",
    "\n",
    "from tkinter import *\n",
    "\n",
    "class ProcessButtonEvent:\n",
    "    def __init__(self):\n",
    "        window = Tk() #create a window\n",
    "        btOk = Button(window, text = \"Ok\", fg = \"red\", \n",
    "                        command = self.processOk)\n",
    "        btCancel = Button(window, text = \"Cancel\", bg =\"yellow\",\n",
    "                            command = self.processCancel)\n",
    "        btOk.pack()\n",
    "        btCancel.pack()\n",
    "\n",
    "        window.mainloop()\n",
    "\n",
    "    def processOk(self):\n",
    "        print(\"Ok button is clicked\")\n",
    "\n",
    "    def processCancel(self):\n",
    "        print(\"Cancel button is clicked\")\n",
    "\n",
    "\n",
    "ProcessButtonEvent()"
   ]
  },
  {
   "cell_type": "code",
   "execution_count": 17,
   "id": "de176cda",
   "metadata": {},
   "outputs": [],
   "source": [
    "from tkinter import Label # get a widget object\n",
    "widget = Label(None, text='Hello GUI world!') # make one\n",
    "widget.pack() # arrange it\n",
    "widget.mainloop()"
   ]
  },
  {
   "cell_type": "code",
   "execution_count": 19,
   "id": "abb4d5ac",
   "metadata": {},
   "outputs": [],
   "source": [
    "from tkinter import *\n",
    "Label(text='Hello GUI world!').pack(expand=YES, fill=BOTH)\n",
    "mainloop()"
   ]
  },
  {
   "cell_type": "code",
   "execution_count": 15,
   "id": "fa75255a",
   "metadata": {},
   "outputs": [
    {
     "data": {
      "text/plain": [
       "<__main__.WidgetsDémo at 0x1ae1c364f10>"
      ]
     },
     "execution_count": 15,
     "metadata": {},
     "output_type": "execute_result"
    }
   ],
   "source": [
    "class WidgetsDémo:\n",
    "    def __init__(self):\n",
    "        window = Tk()\n",
    "        window.title(\"Widgets Demo\")\n",
    "\n",
    "        frame1 = Frame(window)\n",
    "        frame1.pack()\n",
    "        #create check button\n",
    "        self.v1 = IntVar()\n",
    "        cbtBold = Checkbutton(frame1, text=\"Bold\",\n",
    "                    variable = self.v1, command = self.processCheckbutton)  \n",
    "        #create radiobutton\n",
    "        self.v2 = IntVar() \n",
    "        rbRed = Radiobutton(frame1, text = \"Red\", bg = \"red\", value = 1, \n",
    "                            command = self.processRadiobutton)\n",
    "        rbYellow = Radiobutton(frame1, text = \"Yellow\", bg = \"yellow\",\n",
    "                        variable = self.v2, value = 2, command = self.processRadiobutton)    \n",
    "\n",
    "        #create grid manager\n",
    "        cbtBold.grid(row = 1, column = 1)\n",
    "        rbRed.grid(row = 1, column = 1)\n",
    "        rbYellow.grid(row = 1, column = 1)\n",
    "\n",
    "        #create frame\n",
    "        #add a label,entry, button and message to frame\n",
    "        frame2 = Frame(window)\n",
    "        frame2.pack()\n",
    "        label = Label(frame2, text = \"Enter your name: \")\n",
    "        self.name = StringVar()\n",
    "        #create entry name\n",
    "        entryName = Entry(frame2, textvariable = self.name)\n",
    "        btGetName = Button(frame2, text = \"Get name\", command = self.processButton)\n",
    "        #create a message\n",
    "        message = Message(frame2, text = \"It is a widgets demo\")\n",
    "        label.grid(row = 1, column = 1)\n",
    "        entryName.grid(row = 1, column = 2)\n",
    "        btGetName.grid(row = 1, column = 3)\n",
    "        message.grid(row = 1, column = 4)\n",
    "\n",
    "        #add text\n",
    "        text = Text(window)\n",
    "        text.pack()\n",
    "        text.insert(END, \"Tip\\nThe best way to learn Tkinter is to read \")\n",
    "        text.insert(END, \"these carefully designed examples and use them \")\n",
    "        text.insert(END, \"to create your applications.\")\n",
    "\n",
    "        window.mainloop()\n",
    "\n",
    "    def processCheckbutton(self):\n",
    "        print(\"Check button is \" + (\"checked\" if self.v1.get() == 1 else \"unchecked\"))\n",
    "\n",
    "    def processRadiobutton(self):\n",
    "        print((\"Red\" if self.v2.get() == 1 else \"Yellow\") + \" is selected\")\n",
    "\n",
    "    def processButton(self):\n",
    "        print(\"Your name is \" + self.name.get())\n",
    "\n",
    "WidgetsDémo()"
   ]
  },
  {
   "cell_type": "code",
   "execution_count": 11,
   "id": "30ced79e",
   "metadata": {},
   "outputs": [
    {
     "data": {
      "text/plain": [
       "<__main__.GridManagerDemo at 0x1ae207db4f0>"
      ]
     },
     "execution_count": 11,
     "metadata": {},
     "output_type": "execute_result"
    }
   ],
   "source": [
    "from tkinter import * # Import all definitions from tkinter\n",
    "class GridManagerDemo:\n",
    "    window = Tk() # Create a window\n",
    "    window.title(\"Grid Manager Demo\") # Set title\n",
    "    message = Message(window, text = \"This Message widget occupies three rows and two columns\")\n",
    "    message.grid(row = 1, column = 1, rowspan = 3, columnspan = 2)\n",
    "    Label(window, text = \"First Name:\").grid(row = 1, column = 3)\n",
    "    Entry(window).grid(row = 1, column = 4, padx = 5, pady = 5)\n",
    "    Label(window, text = \"Last Name:\").grid(row = 2, column = 3)\n",
    "    Entry(window).grid(row = 2, column = 4)\n",
    "    Button(window, text = \"Get Name\").grid(row = 3, padx = 5, pady = 5, column = 4, sticky = N)\n",
    "\n",
    "    window.mainloop() # Create an event loop\n",
    "\n",
    "GridManagerDemo() # Create GUI"
   ]
  },
  {
   "cell_type": "code",
   "execution_count": 29,
   "id": "2c930b49",
   "metadata": {},
   "outputs": [
    {
     "data": {
      "text/plain": [
       "<__main__.LoanCalculator at 0x1ae208e6b00>"
      ]
     },
     "execution_count": 29,
     "metadata": {},
     "output_type": "execute_result"
    }
   ],
   "source": [
    "from tkinter import *\n",
    "\n",
    "class LoanCalculator:\n",
    "    def __init__(self):\n",
    "\n",
    "        window = Tk()  # Create a window\n",
    "        # Set title\n",
    "        window.title(\"Loan Calculator\")\n",
    "        window.geometry(\"800x800\")  # set the dimensions\n",
    "        # create the input boxes.\n",
    "        Label(window, text=\"Annual Interest Rate\").grid(row=1,\n",
    "                                                        column=1, sticky=W)\n",
    "        Label(window, text=\"Number of Years\").grid(row=2,\n",
    "                                                   column=1, sticky=W)\n",
    "        Label(window, text=\"Loan Amount\").grid(row=3,\n",
    "                                               column=1, sticky=W)\n",
    "        Label(window, text=\"Monthly Payment\").grid(row=4,\n",
    "                                                   column=1, sticky=W)\n",
    "        Label(window, text=\"Total Payment\").grid(row=5,\n",
    "                                                 column=1, sticky=W)\n",
    "\n",
    "        # for taking inputs\n",
    "        # StringVar is a class from tkinter , used so that you can easily monitor changes to tkinter variables if they occur.\n",
    "        self.annualInterestRateVar = StringVar()\n",
    "        Entry(window, textvariable=self.annualInterestRateVar,\n",
    "              justify=LEFT).grid(row=1, column=2)\n",
    "\n",
    "        self.numberOfYearsVar = StringVar()\n",
    "        Entry(window, textvariable=self.numberOfYearsVar,\n",
    "              justify=LEFT).grid(row=2, column=2)\n",
    "\n",
    "        self.loanAmountVar = StringVar()\n",
    "        Entry(window, textvariable=self.loanAmountVar,\n",
    "              justify=LEFT).grid(row=3, column=2)\n",
    "\n",
    "        # Output of monthly payment and total payment\n",
    "        self.monthlyPaymentVar = StringVar()\n",
    "        lblMonthlyPayment = Label(window, textvariable=self.monthlyPaymentVar).grid(row=4,\n",
    "                                                                                    column=2, sticky=E)\n",
    "\n",
    "        self.totalPaymentVar = StringVar()\n",
    "        lblTotalPayment = Label(window, textvariable=self.totalPaymentVar).grid(row=5,\n",
    "                                                                                column=2, sticky=E)\n",
    "\n",
    "        # create Compute Payment button\n",
    "        btComputePayment = Button(window, text=\"Compute Payment\",\n",
    "                                  command=self.computePayment).grid(\n",
    "            row=6, column=3, sticky=E)\n",
    "        window.mainloop()  # Create an event loop - To run the program\n",
    "\n",
    "    # compute the total payment. 2\n",
    "    def computePayment(self):\n",
    "        monthlyPayment = self.getMonthlyPayment(\n",
    "            float(self.loanAmountVar.get()),\n",
    "            float(self.annualInterestRateVar.get()) / 1200,\n",
    "            int(self.numberOfYearsVar.get()))\n",
    "\n",
    "        self.monthlyPaymentVar.set(format(monthlyPayment, '10.2f'))\n",
    "        totalPayment = float(self.monthlyPaymentVar.get()) * 12 \\\n",
    "            * int(self.numberOfYearsVar.get())\n",
    "\n",
    "        self.totalPaymentVar.set(format(totalPayment, '10.2f'))\n",
    "\n",
    "    # compute the monthly payment.1\n",
    "    def getMonthlyPayment(self, loanAmount, monthlyInterestRate, numberOfYears):\n",
    "        monthlyPayment = loanAmount * monthlyInterestRate / \\\n",
    "            (1 - 1 / (1 + monthlyInterestRate) ** (numberOfYears * 12))\n",
    "        return monthlyPayment\n",
    "\n",
    "        # create the widget . The root window is a main application window in our programs. It has a title bar and borders. These are provided by the window manager.\n",
    "        root = Tk()\n",
    "\n",
    " # call the class to run the program.\n",
    "LoanCalculator()"
   ]
  },
  {
   "cell_type": "code",
   "execution_count": 26,
   "id": "33269652",
   "metadata": {},
   "outputs": [],
   "source": [
    "from tkinter import *\n",
    "root = Tk()\n",
    "root.title(\"Widgets Demo\")\n",
    "#root.attributes(\"-fullscreen\", False)\n",
    "labelfont = ('times', 20, 'bold') # family, size, style\n",
    "widget = Label(root, text='Hello config world')\n",
    "widget.config(bg='black', fg='yellow') # yellow text on black label\n",
    "widget.config(font=labelfont) # use a larger font\n",
    "widget.config(height=3, width=20) # initial size: lines,chars\n",
    "widget.pack(expand=YES, fill=BOTH)\n",
    "root.mainloop()"
   ]
  },
  {
   "cell_type": "code",
   "execution_count": 32,
   "id": "f18b7194",
   "metadata": {},
   "outputs": [
    {
     "data": {
      "text/plain": [
       "(960.0, 320.0, 1920.0)"
      ]
     },
     "execution_count": 32,
     "metadata": {},
     "output_type": "execute_result"
    }
   ],
   "source": [
    "def income_expense_01():\n",
    "    \"\"\"\n",
    "    Take income from user, allocate amount for expenses,\n",
    "    divide expenses budget into different categories\n",
    "    \"\"\"\n",
    "    income = float(input(\"Please enter your income for the month: \"))\n",
    "    saving = 0.2 * income  # 20% of income\n",
    "    expenses = 0.8 * income  # 80% of income\n",
    "    fun_budget = 0.3 * expenses  # 30% of expenses\n",
    "    cosmetic_budget = 0.1 * expenses  # 10% of expenses\n",
    "    grocery_budget = 0.6 * expenses  # 60% of expenses\n",
    "\n",
    "    return fun_budget, cosmetic_budget, grocery_budget\n",
    "\n",
    "income_expense_01()"
   ]
  },
  {
   "cell_type": "code",
   "execution_count": 36,
   "id": "0f302936",
   "metadata": {},
   "outputs": [
    {
     "name": "stdout",
     "output_type": "stream",
     "text": [
      "(720.0, 240.00000000000006, 1440.0)\n"
     ]
    }
   ],
   "source": []
  }
 ],
 "metadata": {
  "kernelspec": {
   "display_name": "Python 3",
   "language": "python",
   "name": "python3"
  },
  "language_info": {
   "codemirror_mode": {
    "name": "ipython",
    "version": 3
   },
   "file_extension": ".py",
   "mimetype": "text/x-python",
   "name": "python",
   "nbconvert_exporter": "python",
   "pygments_lexer": "ipython3",
   "version": "3.10.0"
  }
 },
 "nbformat": 4,
 "nbformat_minor": 5
}
