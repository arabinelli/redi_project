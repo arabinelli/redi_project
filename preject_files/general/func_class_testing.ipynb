{
 "cells": [
  {
   "cell_type": "markdown",
   "id": "909b7d19-b028-4b20-bf3a-ee76c4d33d37",
   "metadata": {
    "tags": []
   },
   "source": [
    "### Testing a function\n",
    "\n",
    "to write a test we a code to test"
   ]
  },
  {
   "cell_type": "code",
   "execution_count": 7,
   "id": "ea590cd2-747b-465c-aee1-03348a0ce848",
   "metadata": {},
   "outputs": [
    {
     "name": "stdout",
     "output_type": "stream",
     "text": [
      "Enter 'q' at any time to quit.\n"
     ]
    },
    {
     "name": "stdin",
     "output_type": "stream",
     "text": [
      "\n",
      "Please give me a first name:  kingsley\n",
      "Please give me a last name:  chimezie\n"
     ]
    },
    {
     "name": "stdout",
     "output_type": "stream",
     "text": [
      "\tNeatly formatted name: \u001b[93mKingsley Chimezie\u001b[0m\n"
     ]
    },
    {
     "name": "stdin",
     "output_type": "stream",
     "text": [
      "\n",
      "Please give me a first name:  q\n"
     ]
    }
   ],
   "source": [
    "import import_ipynb\n",
    "from func_test import get_formatted_name\n",
    "\n",
    "print(\"Enter 'q' at any time to quit.\")\n",
    "while True:\n",
    "    first_name = input(\"\\nPlease give me a first name: \")\n",
    "    if first_name == \"q\":\n",
    "        break\n",
    "    last_name = input(\"Please give me a last name: \")\n",
    "    if last_name == \"q\":\n",
    "        break\n",
    "        \n",
    "    formatted_name = get_formatted_name(first_name, last_name)\n",
    "    print(f\"\\tNeatly formatted name: \\033[93m{formatted_name}\\033[0m\")"
   ]
  },
  {
   "cell_type": "markdown",
   "id": "7dc53eea-7892-4adb-a708-b26fb881ff8f",
   "metadata": {},
   "source": [
    "### unit tests and test case\n",
    "- **unit test**: verifies that one specific aspect of a function behaviour is correct.\n",
    "- **test case**: a collection of unit tests that together prove that a function behaves as it should be."
   ]
  },
  {
   "cell_type": "markdown",
   "id": "57838347-65c5-41e5-b2cc-2008fd7475e2",
   "metadata": {},
   "source": [
    "### A passing test\n",
    "To write a test case for a function, import the unittest module and the function you want to test."
   ]
  },
  {
   "cell_type": "code",
   "execution_count": 1,
   "id": "5c59d4bc-7be9-492c-b944-d712b6362e85",
   "metadata": {},
   "outputs": [
    {
     "name": "stderr",
     "output_type": "stream",
     "text": [
      "..."
     ]
    },
    {
     "name": "stdout",
     "output_type": "stream",
     "text": [
      "importing Jupyter notebook from func_test.ipynb\n"
     ]
    },
    {
     "name": "stderr",
     "output_type": "stream",
     "text": [
      "\n",
      "----------------------------------------------------------------------\n",
      "Ran 3 tests in 0.008s\n",
      "\n",
      "OK\n"
     ]
    }
   ],
   "source": [
    "import import_ipynb\n",
    "import unittest\n",
    "from func_test import get_formatted_name, quadrratic_equ\n",
    "\n",
    "class NamesTestCase(unittest.TestCase):\n",
    "    \"\"\"Test for get_formated_name.ipynb\"\"\"\n",
    "    \n",
    "    def test_first_last_name(self):\n",
    "        \"\"\"Do names like 'Janis Joplin' work\"\"\"\n",
    "        formatted_name = get_formatted_name('janis', 'joplin')\n",
    "        self.assertEqual(formatted_name, 'Janis Joplin')\n",
    "        \n",
    "    def test_first_last_middle_name(self):\n",
    "        \"\"\"DO names like 'Wolfgang Amadeus Mozart' work?\"\"\"\n",
    "        formatted_name = get_formatted_name(\n",
    "            'wolfgang', 'mozart', 'amadeus')\n",
    "        self.assertEqual(formatted_name, 'Wolfgang Amadeus Mozart')\n",
    "    \n",
    "    def test_quadrratic_equ(self):\n",
    "        result = quadrratic_equ(10, 15)\n",
    "        self.assertEqual(result, 115)\n",
    "        \n",
    "if __name__ == '__main__':\n",
    "    unittest.main(argv=['first-arg-is-ignored'], exit=False)"
   ]
  },
  {
   "cell_type": "code",
   "execution_count": null,
   "id": "f50d435a-985d-4299-8d11-df116fd952d6",
   "metadata": {},
   "outputs": [],
   "source": []
  },
  {
   "cell_type": "code",
   "execution_count": 4,
   "id": "0db81154-538e-411d-93a7-c01e7743db91",
   "metadata": {},
   "outputs": [
    {
     "name": "stderr",
     "output_type": "stream",
     "text": [
      "....\n",
      "----------------------------------------------------------------------\n",
      "Ran 4 tests in 0.005s\n",
      "\n",
      "OK\n"
     ]
    }
   ],
   "source": [
    "import import_ipynb\n",
    "import unittest\n",
    "import func_test\n",
    "\n",
    "class TestCalc(unittest.TestCase):\n",
    "    \n",
    "    def test_add(self):\n",
    "        self.assertEqual(func_test.add(20, 5), 25)\n",
    "        self.assertEqual(func_test.add(-1, 1), 0)\n",
    "        self.assertEqual(func_test.add(-1, -1), -2)\n",
    "        \n",
    "    def test_subtract(self):\n",
    "        self.assertEqual(func_test.subtract(20, 5), 15)\n",
    "        self.assertEqual(func_test.subtract(-1, 1), -2)\n",
    "        self.assertEqual(func_test.subtract(-1, -1), 0)\n",
    "        \n",
    "    def test_divide(self):\n",
    "        self.assertEqual(func_test.divide(20, 5), 4)\n",
    "        self.assertEqual(func_test.divide(-1, 1), -1)\n",
    "        self.assertEqual(func_test.divide(-1, -1), 1)\n",
    "        \n",
    "        #to raise zero division error\n",
    "        with self.assertRaises(ZeroDivisionError):\n",
    "            func_test.divide(2, 0)\n",
    "            \n",
    "    def test_multiply(self):\n",
    "        self.assertEqual(func_test.multiply(20, 5), 100)\n",
    "        self.assertEqual(func_test.multiply(-1, 1), -1)\n",
    "        self.assertEqual(func_test.multiply(-1, -1), 1)\n",
    "        \n",
    "        \n",
    "if __name__ == '__main__':\n",
    "    unittest.main(argv=['first-arg-is-ignored'], exit=False)"
   ]
  },
  {
   "cell_type": "markdown",
   "id": "5c2e384e-0f5e-4263-8b42-2fc9474e68e9",
   "metadata": {},
   "source": [
    "### Classes tests"
   ]
  },
  {
   "cell_type": "code",
   "execution_count": null,
   "id": "1e6f8e54-54b4-42f0-8b0e-3816fe46e301",
   "metadata": {},
   "outputs": [],
   "source": []
  },
  {
   "cell_type": "code",
   "execution_count": null,
   "id": "9edd5b07-175a-4343-b9c2-613231f5e7f2",
   "metadata": {},
   "outputs": [],
   "source": []
  },
  {
   "cell_type": "markdown",
   "id": "d4d150ad-4ddb-44fd-9846-d56cb2aa9d7a",
   "metadata": {},
   "source": [
    "<span style=\"color:yellow\">Python Crash Course: </span> Classes"
   ]
  },
  {
   "cell_type": "code",
   "execution_count": 11,
   "id": "f48a4c49-342c-42bd-bf92-eaee9b571b94",
   "metadata": {},
   "outputs": [
    {
     "data": {
      "text/plain": [
       "'2022 Toyota Corolla'"
      ]
     },
     "execution_count": 11,
     "metadata": {},
     "output_type": "execute_result"
    }
   ],
   "source": [
    "class Car:\n",
    "    \"\"\"A simple attempt to represent a car\"\"\"\n",
    "    \n",
    "    def __init__(self, make: str=\"Toyota\", model: str=\"Corolla\", year: int=2020):\n",
    "        \"\"\"Initialize attributes to describe a car\"\"\"\n",
    "        self.__make = make\n",
    "        self.__model = model\n",
    "        self.__year = year\n",
    "        self.__odometer_reading = 0\n",
    "    \n",
    "    #Set attributes\n",
    "    def set_make(self, make):\n",
    "        self.__make = make\n",
    "        \n",
    "    def set_model(self, model):\n",
    "        self.__model = model\n",
    "        \n",
    "    def set_year(self, year):\n",
    "        self.__year = year\n",
    "        \n",
    "    #Get attributes   \n",
    "    def get_make(self):\n",
    "        return self.__make \n",
    "    \n",
    "    def get_model(self):\n",
    "        self.__model = model\n",
    "    \n",
    "    def get_year(self):\n",
    "        return self.__year\n",
    "    \n",
    "    def get_odometer_reading(self):\n",
    "        return self.__odometer_reading\n",
    "    \n",
    "    # def get_descriptive_name(self):\n",
    "    #     \"\"\"Return a neatly formatted descriptive name\"\"\"\n",
    "    #     long_name = f\"{self.__year} {self.__make} {self.__model}\"\n",
    "    #     return long_name.title()\n",
    "    \n",
    "    def __call__(self):\n",
    "        long_name = f\"{self.__year} {self.__make} {self.__model}\"\n",
    "        return long_name.title()\n",
    "#car01 = Car(\"Toyota\", \"Corolla\", 2020)\n",
    "\n",
    "car02 = Car()\n",
    "car01 = Car()\n",
    "car03 = Car()\n",
    "\n",
    "car01.set_year(1986)\n",
    "car02.set_year(1990)\n",
    "car03.set_year(2022)\n",
    "\n",
    "car01.get_year(), car02.get_year(), car03.get_year()\n",
    "car03()"
   ]
  },
  {
   "cell_type": "markdown",
   "id": "774e0993-156d-44de-b4d1-75d6e1b5ac93",
   "metadata": {},
   "source": [
    "# Inheritance"
   ]
  },
  {
   "cell_type": "code",
   "execution_count": 20,
   "id": "20e76b54-0521-4eee-98ca-43aa62b7a717",
   "metadata": {},
   "outputs": [
    {
     "data": {
      "text/plain": [
       "75"
      ]
     },
     "execution_count": 20,
     "metadata": {},
     "output_type": "execute_result"
    }
   ],
   "source": [
    "\n",
    "class ElectricCar(Car):\n",
    "    \"\"\"Represent aspect of a car, specific to electric vehicles.\"\"\"\n",
    "    \n",
    "    def __init__(self, make, model, year):\n",
    "        \"\"\"Initialize attributes of the parent class\"\"\"\n",
    "        super().__init__(make, model, year)\n",
    "        self.battery_size = 75\n",
    "        \n",
    "    def descrbe_battery(self):\n",
    "        return self.battery_size\n",
    "\n",
    "my_tesla = ElectricCar('tesla', 'model s', 2019)\n",
    "my_tesla.descrbe_battery()"
   ]
  }
 ],
 "metadata": {
  "kernelspec": {
   "display_name": "Python 3",
   "language": "python",
   "name": "python3"
  },
  "language_info": {
   "codemirror_mode": {
    "name": "ipython",
    "version": 3
   },
   "file_extension": ".py",
   "mimetype": "text/x-python",
   "name": "python",
   "nbconvert_exporter": "python",
   "pygments_lexer": "ipython3",
   "version": "3.7.11"
  }
 },
 "nbformat": 4,
 "nbformat_minor": 5
}
